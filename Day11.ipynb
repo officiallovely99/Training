{
 "cells": [
  {
   "cell_type": "code",
   "execution_count": 2,
   "id": "2d7cef37-322e-471a-9e0c-6527cb798ef5",
   "metadata": {},
   "outputs": [
    {
     "name": "stdout",
     "output_type": "stream",
     "text": [
      "     budget\n",
      "0       NaN\n",
      "1       NaN\n",
      "2 -0.437051\n",
      "3 -0.628529\n",
      "4       NaN\n"
     ]
    }
   ],
   "source": [
    "import pandas as pd\n",
    "from sklearn import datasets\n",
    "from sklearn.model_selection import train_test_split\n",
    "from sklearn.preprocessing import StandardScaler\n",
    "\n",
    "# Load your data\n",
    "data = pd.read_csv('movies.csv')\n",
    "\n",
    "# Select features\n",
    "x = data[['budget']]  \n",
    "y = data[['gross']]\n",
    "\n",
    "# Split the data\n",
    "x_train, x_test, y_train, y_test = train_test_split(x, y, test_size=0.33, random_state=2)\n",
    "\n",
    "# Standardize the feature\n",
    "sc = StandardScaler()\n",
    "scaled = sc.fit_transform(x_train)\n",
    "\n",
    "# Convert to DataFrame\n",
    "result = pd.DataFrame(scaled, columns=['budget'])\n",
    "print(result.head())"
   ]
  },
  {
   "cell_type": "code",
   "execution_count": 3,
   "id": "019f00df-8f2f-4182-9b6e-b5fe325d0fc0",
   "metadata": {},
   "outputs": [
    {
     "data": {
      "text/plain": [
       "Index(['name', 'rating', 'genre', 'year', 'released', 'score', 'votes',\n",
       "       'director', 'writer', 'star', 'country', 'budget', 'gross', 'company',\n",
       "       'runtime'],\n",
       "      dtype='object')"
      ]
     },
     "execution_count": 3,
     "metadata": {},
     "output_type": "execute_result"
    }
   ],
   "source": [
    "data.columns"
   ]
  },
  {
   "cell_type": "code",
   "execution_count": 4,
   "id": "591ed567-3692-4e51-94d9-6a0f4717ec7e",
   "metadata": {},
   "outputs": [
    {
     "name": "stdout",
     "output_type": "stream",
     "text": [
      "      gross\n",
      "0 -0.485240\n",
      "1 -0.477141\n",
      "2 -0.389989\n",
      "3 -0.433671\n",
      "4 -0.455424\n"
     ]
    }
   ],
   "source": [
    "from sklearn.preprocessing import MinMaxScaler\n",
    "\n",
    "# normalize the feature\n",
    "sc1 = MinMaxScaler()\n",
    "scaled = sc.fit_transform(y_train)\n",
    "\n",
    "# Convert to DataFrame\n",
    "result = pd.DataFrame(scaled, columns=['gross'])\n",
    "print(result.head())"
   ]
  },
  {
   "cell_type": "code",
   "execution_count": 5,
   "id": "81a36fb0-4cd8-4e4b-9d01-33a6fb454318",
   "metadata": {},
   "outputs": [
    {
     "data": {
      "text/plain": [
       "<bound method NDFrame.head of                                                 name rating      genre  year  \\\n",
       "0                                        The Shining      R      Drama  1980   \n",
       "1                                    The Blue Lagoon      R  Adventure  1980   \n",
       "2     Star Wars: Episode V - The Empire Strikes Back     PG     Action  1980   \n",
       "3                                          Airplane!     PG     Comedy  1980   \n",
       "4                                         Caddyshack      R     Comedy  1980   \n",
       "...                                              ...    ...        ...   ...   \n",
       "7663                                    More to Life    NaN      Drama  2020   \n",
       "7664                                     Dream Round    NaN     Comedy  2020   \n",
       "7665                                   Saving Mbango    NaN      Drama  2020   \n",
       "7666                                    It's Just Us    NaN      Drama  2020   \n",
       "7667                                       Tee em el    NaN     Horror  2020   \n",
       "\n",
       "                              released  score      votes         director  \\\n",
       "0        June 13, 1980 (United States)    8.4   927000.0  Stanley Kubrick   \n",
       "1         July 2, 1980 (United States)    5.8    65000.0   Randal Kleiser   \n",
       "2        June 20, 1980 (United States)    8.7  1200000.0   Irvin Kershner   \n",
       "3         July 2, 1980 (United States)    7.7   221000.0     Jim Abrahams   \n",
       "4        July 25, 1980 (United States)    7.3   108000.0     Harold Ramis   \n",
       "...                                ...    ...        ...              ...   \n",
       "7663  October 23, 2020 (United States)    3.1       18.0    Joseph Ebanks   \n",
       "7664  February 7, 2020 (United States)    4.7       36.0     Dusty Dukatz   \n",
       "7665         April 27, 2020 (Cameroon)    5.7       29.0     Nkanya Nkwai   \n",
       "7666   October 1, 2020 (United States)    NaN        NaN    James Randall   \n",
       "7667   August 19, 2020 (United States)    5.7        7.0     Pereko Mosia   \n",
       "\n",
       "                       writer              star         country      budget  \\\n",
       "0                Stephen King    Jack Nicholson  United Kingdom  19000000.0   \n",
       "1     Henry De Vere Stacpoole    Brooke Shields   United States   4500000.0   \n",
       "2              Leigh Brackett       Mark Hamill   United States  18000000.0   \n",
       "3                Jim Abrahams       Robert Hays   United States   3500000.0   \n",
       "4          Brian Doyle-Murray       Chevy Chase   United States   6000000.0   \n",
       "...                       ...               ...             ...         ...   \n",
       "7663            Joseph Ebanks      Shannon Bond   United States      7000.0   \n",
       "7664              Lisa Huston  Michael Saquella   United States         NaN   \n",
       "7665             Lynno Lovert      Onyama Laura   United States     58750.0   \n",
       "7666            James Randall     Christina Roz   United States     15000.0   \n",
       "7667             Pereko Mosia  Siyabonga Mabaso    South Africa         NaN   \n",
       "\n",
       "            gross                    company  runtime  \n",
       "0      46998772.0               Warner Bros.    146.0  \n",
       "1      58853106.0          Columbia Pictures    104.0  \n",
       "2     538375067.0                  Lucasfilm    124.0  \n",
       "3      83453539.0         Paramount Pictures     88.0  \n",
       "4      39846344.0             Orion Pictures     98.0  \n",
       "...           ...                        ...      ...  \n",
       "7663          NaN                        NaN     90.0  \n",
       "7664          NaN  Cactus Blue Entertainment     90.0  \n",
       "7665          NaN           Embi Productions      NaN  \n",
       "7666          NaN                        NaN    120.0  \n",
       "7667          NaN                PK 65 Films    102.0  \n",
       "\n",
       "[7668 rows x 15 columns]>"
      ]
     },
     "execution_count": 5,
     "metadata": {},
     "output_type": "execute_result"
    }
   ],
   "source": [
    "data.head"
   ]
  },
  {
   "cell_type": "code",
   "execution_count": 7,
   "id": "ab2a6c33-8aba-44a4-b9e0-2bbdf286798b",
   "metadata": {},
   "outputs": [
    {
     "name": "stdout",
     "output_type": "stream",
     "text": [
      "✅ Model trained successfully!\n",
      "R² Score: 0.5152763396651934\n",
      "   Actual Gross  Predicted Gross\n",
      "0    11146270.0     8.271782e+07\n",
      "1    44350926.0     1.034479e+08\n",
      "2    16923761.0     7.235276e+07\n",
      "3    76338111.0     2.225497e+07\n",
      "4   369330363.0     1.898234e+08\n"
     ]
    }
   ],
   "source": [
    "import pandas as pd\n",
    "from sklearn.model_selection import train_test_split\n",
    "from sklearn.preprocessing import StandardScaler\n",
    "from sklearn.linear_model import LinearRegression\n",
    "from sklearn.metrics import r2_score\n",
    "\n",
    "# --- Load data ---\n",
    "data = pd.read_csv(\"movies.csv\")\n",
    "\n",
    "# --- Clean data ---\n",
    "# Keep only numeric columns we need\n",
    "data['budget'] = pd.to_numeric(data['budget'], errors='coerce')\n",
    "data['gross'] = pd.to_numeric(data['gross'], errors='coerce')\n",
    "\n",
    "# Drop any rows with missing values in these columns\n",
    "data = data.dropna(subset=['budget', 'gross'])\n",
    "\n",
    "# --- Select features and target ---\n",
    "x = data[['budget']]\n",
    "y = data[['gross']]\n",
    "\n",
    "# --- Split data ---\n",
    "x_train, x_test, y_train, y_test = train_test_split(\n",
    "    x, y, test_size=0.33, random_state=2\n",
    ")\n",
    "\n",
    "# --- Scale features ---\n",
    "sc = StandardScaler()\n",
    "\n",
    "# Fit only on train, transform both\n",
    "x_train_scaled = sc.fit_transform(x_train)\n",
    "x_test_scaled = sc.transform(x_test)\n",
    "\n",
    "# --- Train model ---\n",
    "reg = LinearRegression()\n",
    "reg.fit(x_train_scaled, y_train)\n",
    "\n",
    "# --- Predict and evaluate ---\n",
    "y_pred = reg.predict(x_test_scaled)\n",
    "print(\"✅ Model trained successfully!\")\n",
    "print(\"R² Score:\", r2_score(y_test, y_pred))\n",
    "\n",
    "# --- Show comparison ---\n",
    "result = pd.DataFrame({\n",
    "    \"Actual Gross\": y_test.values.flatten(),\n",
    "    \"Predicted Gross\": y_pred.flatten()\n",
    "})\n",
    "print(result.head())\n"
   ]
  },
  {
   "cell_type": "code",
   "execution_count": 9,
   "id": "36396597-8a7b-43f2-86a9-fdee1e08f026",
   "metadata": {},
   "outputs": [
    {
     "name": "stdout",
     "output_type": "stream",
     "text": [
      "Decision Tree R² Score: 0.48968248471521336\n"
     ]
    }
   ],
   "source": [
    "# Predict and evaluate\n",
    "y_pred = tree.predict(x_test)\n",
    "print(\"Decision Tree R² Score:\", r2_score(y_test, y_pred))\n"
   ]
  }
 ],
 "metadata": {
  "kernelspec": {
   "display_name": "Python [conda env:base] *",
   "language": "python",
   "name": "conda-base-py"
  },
  "language_info": {
   "codemirror_mode": {
    "name": "ipython",
    "version": 3
   },
   "file_extension": ".py",
   "mimetype": "text/x-python",
   "name": "python",
   "nbconvert_exporter": "python",
   "pygments_lexer": "ipython3",
   "version": "3.12.7"
  }
 },
 "nbformat": 4,
 "nbformat_minor": 5
}
