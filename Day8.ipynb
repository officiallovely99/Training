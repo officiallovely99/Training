{
 "cells": [
  {
   "cell_type": "code",
   "execution_count": 14,
   "id": "99dae5cd-0474-4efd-b3c2-b1dae262d9c9",
   "metadata": {},
   "outputs": [
    {
     "data": {
      "text/plain": [
       "['2302']"
      ]
     },
     "execution_count": 14,
     "metadata": {},
     "output_type": "execute_result"
    }
   ],
   "source": [
    "#Regular expression\n",
    "\n",
    "import re \n",
    "series = 'iammanpreetKaur2302607'\n",
    "pattern = re.compile(r'[0-9]{4}')\n",
    "result = re.findall(pattern , series)\n",
    "result\n",
    "\n"
   ]
  },
  {
   "cell_type": "code",
   "execution_count": 11,
   "id": "82548d65-7f17-4c78-9a65-0dedda7c1589",
   "metadata": {},
   "outputs": [],
   "source": [
    "series = 'iammanpreetKaur2302607'\n",
    "pattern = re.compile(r'[0-9]{4}')\n",
    "result = re.match(pattern , series)\n",
    "result"
   ]
  },
  {
   "cell_type": "code",
   "execution_count": 3,
   "id": "d7c48ab1-5825-4f95-bd1d-d9fa94b7a890",
   "metadata": {},
   "outputs": [
    {
     "data": {
      "text/plain": [
       "['12-june-2020', '14-june-2025', '30-june-2025']"
      ]
     },
     "execution_count": 3,
     "metadata": {},
     "output_type": "execute_result"
    }
   ],
   "source": [
    "#find all date in june months\n",
    "\n",
    "date =  '23-may-2020 , 23-may-2025 , 12-june-2020 , 14-june-2025 , 30-june-2025'\n",
    "pattern = re.compile(r'\\d{2}[/-]june[-/][0-9]{4}')\n",
    "result = re.findall(pattern , date)\n",
    "result"
   ]
  },
  {
   "cell_type": "code",
   "execution_count": 15,
   "id": "819bae4d-06b4-4da2-9532-7b68c25f5914",
   "metadata": {},
   "outputs": [],
   "source": [
    "series =  'bag name Ball tab-le CHAIR Pen glue red green blue zig-zag zoo aim all egg eagle'\n"
   ]
  },
  {
   "cell_type": "code",
   "execution_count": 16,
   "id": "c0631778-21ba-4954-b6c0-a1885ca8da8f",
   "metadata": {},
   "outputs": [
    {
     "data": {
      "text/plain": [
       "['bag']"
      ]
     },
     "execution_count": 16,
     "metadata": {},
     "output_type": "execute_result"
    }
   ],
   "source": [
    "#find all word start with b\n",
    "\n",
    "pattern = re.compile(r'^b[a-z]+')\n",
    "result = re.findall(pattern , series)\n",
    "result"
   ]
  },
  {
   "cell_type": "code",
   "execution_count": 17,
   "id": "f19d6bdb-bf40-493a-8e47-73adb118136c",
   "metadata": {},
   "outputs": [
    {
     "data": {
      "text/plain": [
       "['Ball', 'Pen']"
      ]
     },
     "execution_count": 17,
     "metadata": {},
     "output_type": "execute_result"
    }
   ],
   "source": [
    "#print all word start wuth capital letter\n",
    "\n",
    "pattern = re.compile(r'[A-Z][a-z]+')\n",
    "result = re.findall(pattern , series)\n",
    "result"
   ]
  },
  {
   "cell_type": "code",
   "execution_count": 18,
   "id": "eec7df57-cc62-4156-9fa8-5abd4c3b6c08",
   "metadata": {},
   "outputs": [
    {
     "data": {
      "text/plain": [
       "['tab-le', 'zig-zag']"
      ]
     },
     "execution_count": 18,
     "metadata": {},
     "output_type": "execute_result"
    }
   ],
   "source": [
    "#find word with -\n",
    "\n",
    "pattern = re.compile(r'[a-z]+?[-][a-z]+')\n",
    "result = re.findall(pattern ,series)\n",
    "result"
   ]
  },
  {
   "cell_type": "code",
   "execution_count": 19,
   "id": "ca15f905-f0dd-4e31-b34f-ca864839c29b",
   "metadata": {},
   "outputs": [
    {
     "data": {
      "text/plain": [
       "['eagle']"
      ]
     },
     "execution_count": 19,
     "metadata": {},
     "output_type": "execute_result"
    }
   ],
   "source": [
    "#find last word\n",
    "\n",
    "pattern = re.compile(r'\\w+$')\n",
    "result = re.findall(pattern , series)\n",
    "result"
   ]
  },
  {
   "cell_type": "code",
   "execution_count": 20,
   "id": "adf5846e-879a-4ae7-a31c-280f62925711",
   "metadata": {},
   "outputs": [
    {
     "data": {
      "text/plain": [
       "['bag']"
      ]
     },
     "execution_count": 20,
     "metadata": {},
     "output_type": "execute_result"
    }
   ],
   "source": [
    "#find first word\n",
    "\n",
    "pattern = re.compile(r'^\\w+')\n",
    "result = re.findall(pattern ,series)\n",
    "result"
   ]
  },
  {
   "cell_type": "code",
   "execution_count": 21,
   "id": "7e6eadea-3347-4943-892d-a251952df150",
   "metadata": {},
   "outputs": [
    {
     "data": {
      "text/plain": [
       "['zig', 'zag', 'zoo']"
      ]
     },
     "execution_count": 21,
     "metadata": {},
     "output_type": "execute_result"
    }
   ],
   "source": [
    "#find all word have letter z\n",
    "\n",
    "pattern = re.compile(r'[a-z]*[z][a-z]*')\n",
    "result = re.findall(pattern ,series)\n",
    "result"
   ]
  },
  {
   "cell_type": "code",
   "execution_count": 22,
   "id": "77c77e95-8d01-4e47-8386-b32693c609d4",
   "metadata": {},
   "outputs": [
    {
     "data": {
      "text/plain": [
       "['CHAIR']"
      ]
     },
     "execution_count": 22,
     "metadata": {},
     "output_type": "execute_result"
    }
   ],
   "source": [
    "#find word have only capital letter\n",
    "\n",
    "pattern = re.compile(r'[A-Z]+[A-Z]+')\n",
    "result = re.findall(pattern ,series)\n",
    "result"
   ]
  }
 ],
 "metadata": {
  "kernelspec": {
   "display_name": "Python [conda env:base] *",
   "language": "python",
   "name": "conda-base-py"
  },
  "language_info": {
   "codemirror_mode": {
    "name": "ipython",
    "version": 3
   },
   "file_extension": ".py",
   "mimetype": "text/x-python",
   "name": "python",
   "nbconvert_exporter": "python",
   "pygments_lexer": "ipython3",
   "version": "3.12.7"
  }
 },
 "nbformat": 4,
 "nbformat_minor": 5
}
