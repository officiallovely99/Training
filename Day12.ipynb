{
 "cells": [
  {
   "cell_type": "code",
   "execution_count": 1,
   "id": "c619853c-518d-4de7-8de7-77b7a4e875f6",
   "metadata": {},
   "outputs": [],
   "source": [
    "import re"
   ]
  },
  {
   "cell_type": "code",
   "execution_count": 2,
   "id": "8e26fcaa-68ae-4b19-a191-87a6cd7f5952",
   "metadata": {},
   "outputs": [
    {
     "name": "stdout",
     "output_type": "stream",
     "text": [
      "Emails: ['example123@test.com']\n"
     ]
    }
   ],
   "source": [
    "text = \"My email is example123@test.com and phone number is 9876543210.\"\n",
    "\n",
    "emails = re.findall(r'[a-zA-Z0-9._%+-]+@[a-zA-Z0-9.-]+\\.[a-z]{2,}', text)\n",
    "print(\"Emails:\", emails)"
   ]
  },
  {
   "cell_type": "code",
   "execution_count": 3,
   "id": "68681d0f-5fa4-48f8-81dd-1fa6917762d8",
   "metadata": {},
   "outputs": [
    {
     "name": "stdout",
     "output_type": "stream",
     "text": [
      "Phone numbers: ['9876543210']\n"
     ]
    }
   ],
   "source": [
    "phones = re.findall(r'\\b\\d{10}\\b', text)\n",
    "print(\"Phone numbers:\", phones)"
   ]
  },
  {
   "cell_type": "code",
   "execution_count": 4,
   "id": "0dbd7e20-784f-4088-9166-f23a0aa31d9d",
   "metadata": {},
   "outputs": [
    {
     "name": "stdout",
     "output_type": "stream",
     "text": [
      "After replacement: My email is example[NUMBER]@test.com and phone number is [NUMBER].\n",
      "Text starts with 'My'\n"
     ]
    }
   ],
   "source": [
    "replaced_text = re.sub(r'\\d+', '[NUMBER]', text)\n",
    "print(\"After replacement:\", replaced_text)\n",
    "\n",
    "\n",
    "if re.match(r'^My', text):\n",
    "    print(\"Text starts with 'My'\")"
   ]
  },
  {
   "cell_type": "code",
   "execution_count": 2,
   "id": "5237ac08-dcab-4eca-9381-7631a194f3f1",
   "metadata": {},
   "outputs": [],
   "source": [
    "import pandas as pd"
   ]
  },
  {
   "cell_type": "code",
   "execution_count": 5,
   "id": "1a64c526-3720-4c55-9764-b846aac88886",
   "metadata": {},
   "outputs": [
    {
     "name": "stdout",
     "output_type": "stream",
     "text": [
      "Task 1: Arithmetic operations\n",
      "   s1  s2  add  subtract  multiply    divide\n",
      "0   2   1    3         1         2  2.000000\n",
      "1   4   3    7         1        12  1.333333\n",
      "2   6   5   11         1        30  1.200000\n",
      "3   8   7   15         1        56  1.142857\n",
      "4  10   9   19         1        90  1.111111\n"
     ]
    }
   ],
   "source": [
    "# Arithmetic operations on two Pandas Series (add, subtract, multiply, divide)\n",
    "s1 = pd.Series([2, 4, 6, 8, 10])\n",
    "s2 = pd.Series([1, 3, 5, 7, 9])\n",
    "\n",
    "result = pd.DataFrame({\n",
    "    's1': s1,\n",
    "    's2': s2,\n",
    "    'add': s1 + s2,\n",
    "    'subtract': s1 - s2,\n",
    "    'multiply': s1 * s2,\n",
    "    'divide': s1 / s2  \n",
    "})\n",
    "\n",
    "print(\"Task 1: Arithmetic operations\")\n",
    "print(result)\n"
   ]
  },
  {
   "cell_type": "code",
   "execution_count": 4,
   "id": "65890d5f-c671-48a5-805e-b13dc0408ae4",
   "metadata": {},
   "outputs": [
    {
     "name": "stdout",
     "output_type": "stream",
     "text": [
      "Task 2: Element-wise comparison (equality)\n",
      "   s1  s2  equal\n",
      "0   2   1  False\n",
      "1   4   3  False\n",
      "2   6   5  False\n",
      "3   8   7  False\n",
      "4  10   9  False\n"
     ]
    }
   ],
   "source": [
    "# Compare the elements of two Pandas Series \n",
    "comparison_df = pd.DataFrame({\n",
    "    's1': s1,\n",
    "    's2': s2,\n",
    "    'equal': s1 == s2\n",
    "})\n",
    "\n",
    "print(\"Task 2: Element-wise comparison (equality)\")\n",
    "print(comparison_df)\n"
   ]
  },
  {
   "cell_type": "code",
   "execution_count": 6,
   "id": "0707c892-ce60-40a4-9ad6-3a486b8363c4",
   "metadata": {},
   "outputs": [
    {
     "name": "stdout",
     "output_type": "stream",
     "text": [
      "Task 3: Series converted from dictionary\n",
      "a    100\n",
      "b    200\n",
      "c    300\n",
      "d    400\n",
      "e    800\n",
      "dtype: int64\n"
     ]
    }
   ],
   "source": [
    "#  Convert a dictionary to a Pandas Series\n",
    "original_dict = {'a': 100, 'b': 200, 'c': 300, 'd': 400, 'e': 800}\n",
    "\n",
    "series_from_dict = pd.Series(original_dict)\n",
    "\n",
    "print(\"Task 3: Series converted from dictionary\")\n",
    "print(series_from_dict)"
   ]
  },
  {
   "cell_type": "code",
   "execution_count": null,
   "id": "90487624-218e-43b8-bb8e-f6152f4bc83e",
   "metadata": {},
   "outputs": [],
   "source": [
    "# Items in sr1 not in sr2, and vice versa\n",
    "sr1 = pd.Series([1, 2, 3, 4, 5])\n",
    "sr2 = pd.Series([1, 3, 5, 7, 9])\n",
    "\n",
    "not_in_sr2 = sr1[~sr1.isin(sr2)].reset_index(drop=True)\n",
    "not_in_sr1 = sr2[~sr2.isin(sr1)].reset_index(drop=True)\n",
    "\n",
    "print(\"Task 4: Items in sr1 not in sr2:\")\n",
    "print(not_in_sr2)\n",
    "print(\"Items in sr2 not in sr1:\")\n",
    "print(not_in_sr1)"
   ]
  },
  {
   "cell_type": "code",
   "execution_count": 7,
   "id": "a9d36285-fd8f-4ff4-8001-0bf91ffd850b",
   "metadata": {},
   "outputs": [
    {
     "name": "stdout",
     "output_type": "stream",
     "text": [
      "Original Series:\n",
      "0           python\n",
      "1    pandas series\n",
      "2      hello world\n",
      "3     data science\n",
      "dtype: object\n",
      "\n",
      "Transformed Series:\n",
      "0           PythoN\n",
      "1    PandaS SerieS\n",
      "2      HellO WorlD\n",
      "3     DatA SciencE\n",
      "dtype: object\n"
     ]
    }
   ],
   "source": [
    "# Function to change first and last char to uppercase in each word\n",
    "series = pd.Series(['python', 'pandas series', 'hello world', 'data science'])\n",
    "\n",
    "def first_last_upper(word):\n",
    "    words = word.split()\n",
    "    new_words = []\n",
    "    for w in words:\n",
    "        if len(w) == 1:  \n",
    "            new_words.append(w.upper())\n",
    "        else:\n",
    "            new_words.append(w[0].upper() + w[1:-1] + w[-1].upper())\n",
    "    return ' '.join(new_words)\n",
    "\n",
    "result = series.apply(first_last_upper)\n",
    "\n",
    "print(\"Original Series:\")\n",
    "print(series)\n",
    "print(\"\\nTransformed Series:\")\n",
    "print(result)\n"
   ]
  },
  {
   "cell_type": "code",
   "execution_count": 8,
   "id": "d17424a5-f8c9-4fdd-a022-aea9e7bb9341",
   "metadata": {},
   "outputs": [
    {
     "name": "stdout",
     "output_type": "stream",
     "text": [
      "PythoN IS AmazinG\n"
     ]
    }
   ],
   "source": [
    "def convert_first_last_upper(sentence):\n",
    "    words = sentence.split()\n",
    "    result_words = []\n",
    "\n",
    "    for word in words:\n",
    "        if len(word) == 1:\n",
    "           \n",
    "            result_words.append(word.upper())\n",
    "        else:\n",
    "            new_word = word[0].upper() + word[1:-1] + word[-1].upper()\n",
    "            result_words.append(new_word)\n",
    "\n",
    "    return \" \".join(result_words)\n",
    "\n",
    "sentence = \"python is amazing\"\n",
    "output = convert_first_last_upper(sentence)\n",
    "print(output)\n"
   ]
  },
  {
   "cell_type": "code",
   "execution_count": 9,
   "id": "b3be4134-ba48-45ce-bcf1-25c2c78dd741",
   "metadata": {},
   "outputs": [
    {
     "name": "stdout",
     "output_type": "stream",
     "text": [
      "Converted Series:\n",
      "a    100\n",
      "b    200\n",
      "c    300\n",
      "d    400\n",
      "e    800\n",
      "dtype: int64\n"
     ]
    }
   ],
   "source": [
    "original_dict = {'a': 100, 'b': 200, 'c': 300, 'd': 400, 'e': 800}\n",
    "\n",
    "# Convert to Series\n",
    "series_from_dict = pd.Series(original_dict)\n",
    "\n",
    "print(\"Converted Series:\")\n",
    "print(series_from_dict)\n"
   ]
  },
  {
   "cell_type": "code",
   "execution_count": 10,
   "id": "87bee4c0-df50-49c3-8ef1-ae663a282fb8",
   "metadata": {},
   "outputs": [
    {
     "name": "stdout",
     "output_type": "stream",
     "text": [
      "Items in sr1 not in sr2:\n",
      "0    1\n",
      "1    3\n",
      "2    5\n",
      "dtype: int64\n",
      "\n",
      "Items in sr2 not in sr1:\n",
      "0    6\n",
      "dtype: int64\n"
     ]
    }
   ],
   "source": [
    "sr1 = pd.Series([1, 2, 3, 4, 5])\n",
    "sr2 = pd.Series([2, 4, 6])\n",
    "\n",
    "not_in_sr2 = sr1[~sr1.isin(sr2)].reset_index(drop=True)\n",
    "\n",
    "not_in_sr1 = sr2[~sr2.isin(sr1)].reset_index(drop=True)\n",
    "\n",
    "print(\"Items in sr1 not in sr2:\")\n",
    "print(not_in_sr2)\n",
    "print(\"\\nItems in sr2 not in sr1:\")\n",
    "print(not_in_sr1)\n"
   ]
  }
 ],
 "metadata": {
  "kernelspec": {
   "display_name": "Python [conda env:base] *",
   "language": "python",
   "name": "conda-base-py"
  },
  "language_info": {
   "codemirror_mode": {
    "name": "ipython",
    "version": 3
   },
   "file_extension": ".py",
   "mimetype": "text/x-python",
   "name": "python",
   "nbconvert_exporter": "python",
   "pygments_lexer": "ipython3",
   "version": "3.12.7"
  }
 },
 "nbformat": 4,
 "nbformat_minor": 5
}
