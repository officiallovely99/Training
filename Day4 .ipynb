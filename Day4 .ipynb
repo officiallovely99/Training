{
 "cells": [
  {
   "cell_type": "code",
   "execution_count": 30,
   "id": "31c58748-f0fe-479a-bada-8d1e9d85c890",
   "metadata": {},
   "outputs": [
    {
     "name": "stdout",
     "output_type": "stream",
     "text": [
      "Requirement already satisfied: pandas in c:\\users\\admin\\anaconda3\\lib\\site-packages (2.2.2)\n",
      "Requirement already satisfied: numpy>=1.26.0 in c:\\users\\admin\\anaconda3\\lib\\site-packages (from pandas) (1.26.4)\n",
      "Requirement already satisfied: python-dateutil>=2.8.2 in c:\\users\\admin\\anaconda3\\lib\\site-packages (from pandas) (2.9.0.post0)\n",
      "Requirement already satisfied: pytz>=2020.1 in c:\\users\\admin\\anaconda3\\lib\\site-packages (from pandas) (2024.1)\n",
      "Requirement already satisfied: tzdata>=2022.7 in c:\\users\\admin\\anaconda3\\lib\\site-packages (from pandas) (2023.3)\n",
      "Requirement already satisfied: six>=1.5 in c:\\users\\admin\\anaconda3\\lib\\site-packages (from python-dateutil>=2.8.2->pandas) (1.16.0)\n"
     ]
    }
   ],
   "source": [
    "!pip install pandas \n",
    "import pandas as pd\n",
    "import numpy as np\n",
    "from sklearn.datasets import load_iris"
   ]
  },
  {
   "cell_type": "code",
   "execution_count": 31,
   "id": "2e076957-f0b9-4b19-910a-ca513354aea1",
   "metadata": {},
   "outputs": [
    {
     "data": {
      "text/html": [
       "<div>\n",
       "<style scoped>\n",
       "    .dataframe tbody tr th:only-of-type {\n",
       "        vertical-align: middle;\n",
       "    }\n",
       "\n",
       "    .dataframe tbody tr th {\n",
       "        vertical-align: top;\n",
       "    }\n",
       "\n",
       "    .dataframe thead th {\n",
       "        text-align: right;\n",
       "    }\n",
       "</style>\n",
       "<table border=\"1\" class=\"dataframe\">\n",
       "  <thead>\n",
       "    <tr style=\"text-align: right;\">\n",
       "      <th></th>\n",
       "      <th>sepal_length</th>\n",
       "      <th>sepal_width</th>\n",
       "      <th>petal_length</th>\n",
       "      <th>petal_width</th>\n",
       "      <th>species</th>\n",
       "    </tr>\n",
       "  </thead>\n",
       "  <tbody>\n",
       "    <tr>\n",
       "      <th>0</th>\n",
       "      <td>5.1</td>\n",
       "      <td>3.5</td>\n",
       "      <td>1.4</td>\n",
       "      <td>0.2</td>\n",
       "      <td>setosa</td>\n",
       "    </tr>\n",
       "    <tr>\n",
       "      <th>1</th>\n",
       "      <td>4.9</td>\n",
       "      <td>3.0</td>\n",
       "      <td>1.4</td>\n",
       "      <td>0.2</td>\n",
       "      <td>setosa</td>\n",
       "    </tr>\n",
       "    <tr>\n",
       "      <th>2</th>\n",
       "      <td>4.7</td>\n",
       "      <td>3.2</td>\n",
       "      <td>1.3</td>\n",
       "      <td>0.2</td>\n",
       "      <td>setosa</td>\n",
       "    </tr>\n",
       "    <tr>\n",
       "      <th>3</th>\n",
       "      <td>4.6</td>\n",
       "      <td>3.1</td>\n",
       "      <td>1.5</td>\n",
       "      <td>0.2</td>\n",
       "      <td>setosa</td>\n",
       "    </tr>\n",
       "    <tr>\n",
       "      <th>4</th>\n",
       "      <td>5.0</td>\n",
       "      <td>3.6</td>\n",
       "      <td>1.4</td>\n",
       "      <td>0.2</td>\n",
       "      <td>setosa</td>\n",
       "    </tr>\n",
       "    <tr>\n",
       "      <th>...</th>\n",
       "      <td>...</td>\n",
       "      <td>...</td>\n",
       "      <td>...</td>\n",
       "      <td>...</td>\n",
       "      <td>...</td>\n",
       "    </tr>\n",
       "    <tr>\n",
       "      <th>145</th>\n",
       "      <td>6.7</td>\n",
       "      <td>3.0</td>\n",
       "      <td>5.2</td>\n",
       "      <td>2.3</td>\n",
       "      <td>virginica</td>\n",
       "    </tr>\n",
       "    <tr>\n",
       "      <th>146</th>\n",
       "      <td>6.3</td>\n",
       "      <td>2.5</td>\n",
       "      <td>5.0</td>\n",
       "      <td>1.9</td>\n",
       "      <td>virginica</td>\n",
       "    </tr>\n",
       "    <tr>\n",
       "      <th>147</th>\n",
       "      <td>6.5</td>\n",
       "      <td>3.0</td>\n",
       "      <td>5.2</td>\n",
       "      <td>2.0</td>\n",
       "      <td>virginica</td>\n",
       "    </tr>\n",
       "    <tr>\n",
       "      <th>148</th>\n",
       "      <td>6.2</td>\n",
       "      <td>3.4</td>\n",
       "      <td>5.4</td>\n",
       "      <td>2.3</td>\n",
       "      <td>virginica</td>\n",
       "    </tr>\n",
       "    <tr>\n",
       "      <th>149</th>\n",
       "      <td>5.9</td>\n",
       "      <td>3.0</td>\n",
       "      <td>5.1</td>\n",
       "      <td>1.8</td>\n",
       "      <td>virginica</td>\n",
       "    </tr>\n",
       "  </tbody>\n",
       "</table>\n",
       "<p>150 rows × 5 columns</p>\n",
       "</div>"
      ],
      "text/plain": [
       "     sepal_length  sepal_width  petal_length  petal_width    species\n",
       "0             5.1          3.5           1.4          0.2     setosa\n",
       "1             4.9          3.0           1.4          0.2     setosa\n",
       "2             4.7          3.2           1.3          0.2     setosa\n",
       "3             4.6          3.1           1.5          0.2     setosa\n",
       "4             5.0          3.6           1.4          0.2     setosa\n",
       "..            ...          ...           ...          ...        ...\n",
       "145           6.7          3.0           5.2          2.3  virginica\n",
       "146           6.3          2.5           5.0          1.9  virginica\n",
       "147           6.5          3.0           5.2          2.0  virginica\n",
       "148           6.2          3.4           5.4          2.3  virginica\n",
       "149           5.9          3.0           5.1          1.8  virginica\n",
       "\n",
       "[150 rows x 5 columns]"
      ]
     },
     "execution_count": 31,
     "metadata": {},
     "output_type": "execute_result"
    }
   ],
   "source": [
    "df = pd.read_csv('iris.csv')\n",
    "df"
   ]
  },
  {
   "cell_type": "code",
   "execution_count": 13,
   "id": "997f3ecf-ed91-4779-afc0-3c46c9c17bef",
   "metadata": {},
   "outputs": [
    {
     "name": "stdout",
     "output_type": "stream",
     "text": [
      "Size: 750\n"
     ]
    }
   ],
   "source": [
    "print(\"Size:\", df.size)"
   ]
  },
  {
   "cell_type": "code",
   "execution_count": 14,
   "id": "26ad37ed-dff6-43e2-81ed-337f71157f60",
   "metadata": {},
   "outputs": [
    {
     "name": "stdout",
     "output_type": "stream",
     "text": [
      "\n",
      "Data Types:\n",
      " sepal_length    float64\n",
      "sepal_width     float64\n",
      "petal_length    float64\n",
      "petal_width     float64\n",
      "species          object\n",
      "dtype: object\n"
     ]
    }
   ],
   "source": [
    "print(\"\\nData Types:\\n\", df.dtypes)"
   ]
  },
  {
   "cell_type": "code",
   "execution_count": 15,
   "id": "0c3c0ec5-e36f-46c5-8027-fe91692984ff",
   "metadata": {},
   "outputs": [
    {
     "name": "stdout",
     "output_type": "stream",
     "text": [
      "\n",
      "Column Names:\n",
      " Index(['sepal_length', 'sepal_width', 'petal_length', 'petal_width',\n",
      "       'species'],\n",
      "      dtype='object')\n"
     ]
    }
   ],
   "source": [
    "print(\"\\nColumn Names:\\n\", df.columns)"
   ]
  },
  {
   "cell_type": "code",
   "execution_count": 19,
   "id": "ff3c03cd-4e81-4a44-b1a7-64f645805a0f",
   "metadata": {},
   "outputs": [
    {
     "name": "stdout",
     "output_type": "stream",
     "text": [
      "\n",
      "Is 'species' unique?: False\n"
     ]
    }
   ],
   "source": [
    "print(\"\\nIs 'species' unique?:\", df['species'].is_unique)"
   ]
  },
  {
   "cell_type": "code",
   "execution_count": 16,
   "id": "e1f38913-db3a-4eea-a757-cbdf21a6e621",
   "metadata": {},
   "outputs": [
    {
     "name": "stdout",
     "output_type": "stream",
     "text": [
      "\n",
      "Index of the DataFrame: RangeIndex(start=0, stop=150, step=1)\n"
     ]
    }
   ],
   "source": [
    "print(\"\\nIndex of the DataFrame:\", df.index)"
   ]
  },
  {
   "cell_type": "code",
   "execution_count": 17,
   "id": "2696f44a-facc-4c1c-ab53-842524fe5e07",
   "metadata": {},
   "outputs": [
    {
     "name": "stdout",
     "output_type": "stream",
     "text": [
      "\n",
      "Head:\n",
      "    sepal_length  sepal_width  petal_length  petal_width species\n",
      "0           5.1          3.5           1.4          0.2  setosa\n",
      "1           4.9          3.0           1.4          0.2  setosa\n",
      "2           4.7          3.2           1.3          0.2  setosa\n",
      "3           4.6          3.1           1.5          0.2  setosa\n",
      "4           5.0          3.6           1.4          0.2  setosa\n"
     ]
    }
   ],
   "source": [
    "print(\"\\nHead:\\n\", df.head())"
   ]
  },
  {
   "cell_type": "code",
   "execution_count": 18,
   "id": "1af41d51-0c50-405d-8063-63ad78e49220",
   "metadata": {},
   "outputs": [
    {
     "name": "stdout",
     "output_type": "stream",
     "text": [
      "\n",
      "Tail:\n",
      "      sepal_length  sepal_width  petal_length  petal_width    species\n",
      "145           6.7          3.0           5.2          2.3  virginica\n",
      "146           6.3          2.5           5.0          1.9  virginica\n",
      "147           6.5          3.0           5.2          2.0  virginica\n",
      "148           6.2          3.4           5.4          2.3  virginica\n",
      "149           5.9          3.0           5.1          1.8  virginica\n"
     ]
    }
   ],
   "source": [
    "print(\"\\nTail:\\n\", df.tail())"
   ]
  },
  {
   "cell_type": "code",
   "execution_count": 24,
   "id": "f3bf36af-7735-4581-a40f-fe55a5a1ae00",
   "metadata": {},
   "outputs": [
    {
     "data": {
      "text/html": [
       "<div>\n",
       "<style scoped>\n",
       "    .dataframe tbody tr th:only-of-type {\n",
       "        vertical-align: middle;\n",
       "    }\n",
       "\n",
       "    .dataframe tbody tr th {\n",
       "        vertical-align: top;\n",
       "    }\n",
       "\n",
       "    .dataframe thead th {\n",
       "        text-align: right;\n",
       "    }\n",
       "</style>\n",
       "<table border=\"1\" class=\"dataframe\">\n",
       "  <thead>\n",
       "    <tr style=\"text-align: right;\">\n",
       "      <th></th>\n",
       "      <th>sepal_length</th>\n",
       "      <th>sepal_width</th>\n",
       "      <th>petal_length</th>\n",
       "      <th>petal_width</th>\n",
       "      <th>species</th>\n",
       "    </tr>\n",
       "  </thead>\n",
       "  <tbody>\n",
       "    <tr>\n",
       "      <th>6</th>\n",
       "      <td>4.6</td>\n",
       "      <td>3.4</td>\n",
       "      <td>1.4</td>\n",
       "      <td>0.3</td>\n",
       "      <td>setosa</td>\n",
       "    </tr>\n",
       "    <tr>\n",
       "      <th>74</th>\n",
       "      <td>6.4</td>\n",
       "      <td>2.9</td>\n",
       "      <td>4.3</td>\n",
       "      <td>1.3</td>\n",
       "      <td>versicolor</td>\n",
       "    </tr>\n",
       "    <tr>\n",
       "      <th>10</th>\n",
       "      <td>5.4</td>\n",
       "      <td>3.7</td>\n",
       "      <td>1.5</td>\n",
       "      <td>0.2</td>\n",
       "      <td>setosa</td>\n",
       "    </tr>\n",
       "  </tbody>\n",
       "</table>\n",
       "</div>"
      ],
      "text/plain": [
       "    sepal_length  sepal_width  petal_length  petal_width     species\n",
       "6            4.6          3.4           1.4          0.3      setosa\n",
       "74           6.4          2.9           4.3          1.3  versicolor\n",
       "10           5.4          3.7           1.5          0.2      setosa"
      ]
     },
     "execution_count": 24,
     "metadata": {},
     "output_type": "execute_result"
    }
   ],
   "source": [
    "df.sample(3)"
   ]
  },
  {
   "cell_type": "code",
   "execution_count": 26,
   "id": "37a507eb-7afc-426d-b9af-c6814638a384",
   "metadata": {},
   "outputs": [
    {
     "data": {
      "text/plain": [
       "(150, 5)"
      ]
     },
     "execution_count": 26,
     "metadata": {},
     "output_type": "execute_result"
    }
   ],
   "source": [
    "df.shape"
   ]
  },
  {
   "cell_type": "code",
   "execution_count": 32,
   "id": "526f795a-34e6-4cbf-9ae7-a8525d5924af",
   "metadata": {},
   "outputs": [
    {
     "name": "stdout",
     "output_type": "stream",
     "text": [
      "<class 'pandas.core.frame.DataFrame'> -> <class 'pandas.core.series.Series'>\n",
      "First 5 of squeezed series:\n",
      " 0    5.1\n",
      "1    4.9\n",
      "2    4.7\n",
      "3    4.6\n",
      "4    5.0\n",
      "Name: sepal length (cm), dtype: float64\n"
     ]
    }
   ],
   "source": [
    "iris = load_iris()\n",
    "df = pd.DataFrame(iris.data, columns=iris.feature_names)\n",
    "df['species'] = pd.Categorical.from_codes(iris.target, iris.target_names)\n",
    "\n",
    "df_single_col = df[['sepal length (cm)']]        \n",
    "series = df_single_col.squeeze()               \n",
    "print(type(df_single_col), \"->\", type(series))\n",
    "print(\"First 5 of squeezed series:\\n\", series.head())\n",
    "\n",
    "Example 3: conditional squeeze: if selection might be (n,1) or (n,), safely convert\n",
    "def safe_squeeze(df_or_series):\n",
    "    squeezed = df_or_series.squeeze()\n",
    "    return squeezed\n",
    "\n",
    "# Usage: suppose you filter and select one column, which might be DataFrame\n",
    "maybe_df = df.loc[df['species'] == 'setosa', ['petal width (cm)']]  # could be (50,1)\n",
    "result = safe_squeeze(maybe_df)  # will become Series of length 50\n",
    "print(\"Squeezed filtered result type:\", type(result))\n"
   ]
  },
  {
   "cell_type": "code",
   "execution_count": null,
   "id": "1defb694-43d5-4bef-8995-c22b2f173fe0",
   "metadata": {},
   "outputs": [],
   "source": [
    "# Example 2: squeeze a numpy array with an extra singleton dimension\n",
    "arr = iris.data[:, [0]]     \n",
    "squeezed_arr = np.squeeze(arr)\n",
    "print(\"Original numpy shape:\", arr.shape, \"-> Squeezed shape:\", squeezed_arr.shape)"
   ]
  },
  {
   "cell_type": "code",
   "execution_count": 35,
   "id": "9b18f655-91ce-4ff8-847f-04f4e59b0211",
   "metadata": {},
   "outputs": [
    {
     "name": "stdout",
     "output_type": "stream",
     "text": [
      "Squeezed filtered result type: <class 'pandas.core.series.Series'>\n"
     ]
    }
   ],
   "source": [
    "# Example 3: conditional squeeze: if selection might be (n,1) or (n,), safely convert\n",
    "def safe_squeeze(df_or_series):\n",
    "    squeezed = df_or_series.squeeze()\n",
    "    return squeezed\n",
    "    \n",
    "maybe_df = df.loc[df['species'] == 'setosa', ['petal width (cm)']]  # could be (50,1)\n",
    "result = safe_squeeze(maybe_df)  # will become Series of length 50\n",
    "print(\"Squeezed filtered result type:\", type(result))\n"
   ]
  },
  {
   "cell_type": "code",
   "execution_count": 36,
   "id": "3ab729d5-1854-4013-8283-5163130d8b93",
   "metadata": {},
   "outputs": [
    {
     "name": "stdout",
     "output_type": "stream",
     "text": [
      "Element at row 0, col 1: 3.5\n",
      "Same via .iat: 3.5\n"
     ]
    }
   ],
   "source": [
    "elem = df.iloc[0, 1]\n",
    "print(\"Element at row 0, col 1:\", elem)"
   ]
  },
  {
   "cell_type": "code",
   "execution_count": 37,
   "id": "0e3ce6f0-5022-4d4a-9387-22327ff12335",
   "metadata": {},
   "outputs": [
    {
     "name": "stdout",
     "output_type": "stream",
     "text": [
      "Same via .iat: 3.5\n"
     ]
    }
   ],
   "source": [
    "elem_fast = df.iat[0, 1]\n",
    "print(\"Same via .iat:\", elem_fast)"
   ]
  },
  {
   "cell_type": "code",
   "execution_count": 38,
   "id": "e19d8860-33d4-4be1-a9c3-ddad8d6e15ef",
   "metadata": {},
   "outputs": [
    {
     "name": "stdout",
     "output_type": "stream",
     "text": [
      "\n",
      "10th row:\n",
      " sepal length (cm)       4.9\n",
      "sepal width (cm)        3.1\n",
      "petal length (cm)       1.5\n",
      "petal width (cm)        0.1\n",
      "species              setosa\n",
      "Name: 9, dtype: object\n"
     ]
    }
   ],
   "source": [
    "row_10 = df.iloc[9]  \n",
    "print(\"\\n10th row:\\n\", row_10)"
   ]
  },
  {
   "cell_type": "code",
   "execution_count": 39,
   "id": "b6d43eca-52b7-4de8-ba2a-03fcdfdeb8f8",
   "metadata": {},
   "outputs": [
    {
     "name": "stdout",
     "output_type": "stream",
     "text": [
      "\n",
      "3rd column (petal length):\n",
      " 0    1.4\n",
      "1    1.4\n",
      "2    1.3\n",
      "3    1.5\n",
      "4    1.4\n",
      "Name: petal length (cm), dtype: float64\n"
     ]
    }
   ],
   "source": [
    "col_3 = df.iloc[:, 2]\n",
    "print(\"\\n3rd column (petal length):\\n\", col_3.head())"
   ]
  },
  {
   "cell_type": "code",
   "execution_count": 40,
   "id": "58d77808-2a89-43e2-bba7-add3c394de84",
   "metadata": {},
   "outputs": [
    {
     "name": "stdout",
     "output_type": "stream",
     "text": [
      "\n",
      "Slice [5:10, 0:3]:\n",
      "    sepal length (cm)  sepal width (cm)  petal length (cm)\n",
      "5                5.4               3.9                1.7\n",
      "6                4.6               3.4                1.4\n",
      "7                5.0               3.4                1.5\n",
      "8                4.4               2.9                1.4\n",
      "9                4.9               3.1                1.5\n"
     ]
    }
   ],
   "source": [
    "slice_block = df.iloc[5:10, 0:3]\n",
    "print(\"\\nSlice [5:10, 0:3]:\\n\", slice_block)"
   ]
  },
  {
   "cell_type": "code",
   "execution_count": 41,
   "id": "57a061ed-059a-4b4f-8a5f-acaa8a4d7bab",
   "metadata": {},
   "outputs": [
    {
     "name": "stdout",
     "output_type": "stream",
     "text": [
      "\n",
      "Fancy indexing subset:\n",
      "      sepal length (cm)  petal length (cm)\n",
      "0                  5.1                1.4\n",
      "50                 7.0                4.7\n",
      "100                6.3                6.0\n"
     ]
    }
   ],
   "source": [
    "fancy = df.iloc[[0, 50, 100], [0, 2]]\n",
    "print(\"\\nFancy indexing subset:\\n\", fancy)"
   ]
  },
  {
   "cell_type": "code",
   "execution_count": 42,
   "id": "b8e1354f-65b2-4ed4-884a-1f708ce338b4",
   "metadata": {},
   "outputs": [
    {
     "name": "stdout",
     "output_type": "stream",
     "text": [
      "\n",
      "Last row, last two columns:\n",
      " petal width (cm)          1.8\n",
      "species             virginica\n",
      "Name: 149, dtype: object\n"
     ]
    }
   ],
   "source": [
    "neg = df.iloc[-1, -2:]\n",
    "print(\"\\nLast row, last two columns:\\n\", neg)"
   ]
  },
  {
   "cell_type": "code",
   "execution_count": 43,
   "id": "9b72d1e1-4167-4121-98b8-4857f76512a7",
   "metadata": {},
   "outputs": [
    {
     "name": "stdout",
     "output_type": "stream",
     "text": [
      "\n",
      "Advanced numpy integer indexing result (rows 0,49,99 × cols 1,3):\n",
      " [[3.5 0.2]\n",
      " [3.3 0.2]\n",
      " [2.8 1.3]]\n",
      "\n",
      "First three 'setosa' rows via integer positions:\n",
      "    sepal length (cm)  sepal width (cm)  petal length (cm)  petal width (cm)  \\\n",
      "0                5.1               3.5                1.4               0.2   \n",
      "1                4.9               3.0                1.4               0.2   \n",
      "2                4.7               3.2                1.3               0.2   \n",
      "\n",
      "  species  \n",
      "0  setosa  \n",
      "1  setosa  \n",
      "2  setosa  \n"
     ]
    }
   ],
   "source": [
    "data_np = df.iloc[:, :4].to_numpy()  \n",
    "rows = np.array([0, 49, 99])\n",
    "cols = np.array([1, 3])\n",
    "\n",
    "advanced = data_np[rows[:, None], cols]\n",
    "print(\"\\nAdvanced numpy integer indexing result (rows 0,49,99 × cols 1,3):\\n\", advanced)\n",
    "\n",
    "\n",
    "setosa_indices = df.index[df['species'] == 'setosa'].to_list() \n",
    "first_three_setosa = df.iloc[setosa_indices[:3], :]\n",
    "print(\"\\nFirst three 'setosa' rows via integer positions:\\n\", first_three_setosa)"
   ]
  }
 ],
 "metadata": {
  "kernelspec": {
   "display_name": "Python [conda env:base] *",
   "language": "python",
   "name": "conda-base-py"
  },
  "language_info": {
   "codemirror_mode": {
    "name": "ipython",
    "version": 3
   },
   "file_extension": ".py",
   "mimetype": "text/x-python",
   "name": "python",
   "nbconvert_exporter": "python",
   "pygments_lexer": "ipython3",
   "version": "3.12.7"
  }
 },
 "nbformat": 4,
 "nbformat_minor": 5
}
