{
 "cells": [
  {
   "cell_type": "code",
   "execution_count": 4,
   "id": "14aa8772-f34a-4b74-bf73-3f74ab7be0bf",
   "metadata": {},
   "outputs": [
    {
     "name": "stdin",
     "output_type": "stream",
     "text": [
      "Your name: Manpreet Kaur\n",
      "Your age: 20\n"
     ]
    },
    {
     "name": "stdout",
     "output_type": "stream",
     "text": [
      "Hello! I am  Manpreet Kaur  I am 20 years old\n"
     ]
    }
   ],
   "source": [
    "name = input(\"Your name:\")\n",
    "age = input(\"Your age:\")\n",
    "print(\"Hello! I am \",name + \"  I am\", age + \" years old\")"
   ]
  },
  {
   "cell_type": "code",
   "execution_count": 5,
   "id": "c75c23df-58bb-40fb-adce-759074e9365f",
   "metadata": {},
   "outputs": [
    {
     "name": "stdin",
     "output_type": "stream",
     "text": [
      "Enter the first number: 23\n",
      "Enter the second number: 44\n"
     ]
    },
    {
     "name": "stdout",
     "output_type": "stream",
     "text": [
      "The addition is: 67\n"
     ]
    }
   ],
   "source": [
    "#addition of 2 numbers\n",
    "a = int(input(\"Enter the first number:\"))\n",
    "b = int(input(\"Enter the second number:\"))\n",
    "sum = a+b\n",
    "print(\"The addition is:\",sum)"
   ]
  },
  {
   "cell_type": "code",
   "execution_count": 9,
   "id": "947e20d6-989f-41c2-97a4-0d1e1271ba0f",
   "metadata": {},
   "outputs": [
    {
     "name": "stdin",
     "output_type": "stream",
     "text": [
      "Enter the first number: 12\n",
      "Enter the second number: 6\n"
     ]
    },
    {
     "name": "stdout",
     "output_type": "stream",
     "text": [
      "The addition is: 18\n",
      "The subtraction is: 6\n",
      "The multiplication is: 72\n",
      "The division is: 2.0\n"
     ]
    }
   ],
   "source": [
    "#add,sub,mul,division of two numbers\n",
    "a = int(input(\"Enter the first number:\"))\n",
    "b = int(input(\"Enter the second number:\"))\n",
    "sum = a+b\n",
    "sub = a-b\n",
    "mul = a*b\n",
    "division = a/b\n",
    "print(\"The addition is:\",sum)\n",
    "print(\"The subtraction is:\",sub)\n",
    "print(\"The multiplication is:\",mul)\n",
    "print(\"The division is:\",division)"
   ]
  },
  {
   "cell_type": "code",
   "execution_count": 14,
   "id": "8ab00acd-84f3-45b0-a0cc-c4845e44a152",
   "metadata": {},
   "outputs": [
    {
     "name": "stdin",
     "output_type": "stream",
     "text": [
      "Enter the x: 4\n",
      "Enter the y: 8\n"
     ]
    },
    {
     "name": "stdout",
     "output_type": "stream",
     "text": [
      "After swapping: x= 8 y= 4\n"
     ]
    }
   ],
   "source": [
    "x = int(input(\"Enter the x:\"))\n",
    "y = int(input(\"Enter the y:\"))\n",
    "x,y = y,x\n",
    "print(\"After swapping: x=\", x, \"y=\" , y)"
   ]
  },
  {
   "cell_type": "code",
   "execution_count": 2,
   "id": "324d5eed-7a80-4e04-8ec5-f844beb0d2da",
   "metadata": {},
   "outputs": [
    {
     "name": "stdout",
     "output_type": "stream",
     "text": [
      "13\n",
      "-3\n",
      "40\n",
      "0.625\n",
      "0\n",
      "390625\n",
      "5\n",
      "False\n",
      "True\n",
      "False\n",
      "False\n",
      "True\n",
      "True\n",
      "False\n",
      "False\n",
      "False\n",
      "False\n",
      "True\n"
     ]
    }
   ],
   "source": [
    "num1,num2 = 5,8\n",
    "str1,str2 = \"Hi\",\"hello\"\n",
    "#airthmetic operator\n",
    "print(num1+num2)\n",
    "print(num1-num2)\n",
    "print(num1*num2)\n",
    "print(num1/num2)\n",
    "print(num1//num2) #give only integer part of result\n",
    "print(num1**num2)#for exponentitation\n",
    "print(num1%num2)#give reminder of division \n",
    "\n",
    "#comparision operator \n",
    "print(num1>num2)\n",
    "print(num1<num2)\n",
    "print(num1==num2)\n",
    "print(num1>=num2)\n",
    "print(num1<=num2)\n",
    "print(num1!=num2)\n",
    "\n",
    "#logical operator\n",
    "print(num1>5 & num2>5 )\n",
    "print(num1>5 | num2>5 )\n",
    "\n",
    "#assingment operator\n",
    "num1 +=1 \n",
    "num2-=2\n",
    "\n",
    "#identity operaotor\n",
    "print(str1 is str2)\n",
    "print(num1 is not num2)\n",
    "\n",
    "#membership operator\n",
    "if 'i' in str1:\n",
    "    print(True)\n",
    "if 'i' in str2:\n",
    "    print(True)   "
   ]
  },
  {
   "cell_type": "code",
   "execution_count": 1,
   "id": "41195aee-56e5-4969-9062-458ba5e845d7",
   "metadata": {},
   "outputs": [
    {
     "name": "stdin",
     "output_type": "stream",
     "text": [
      "enter first digit: 45\n",
      "enter second digit: 65\n"
     ]
    },
    {
     "name": "stdout",
     "output_type": "stream",
     "text": [
      "sum= 110\n"
     ]
    }
   ],
   "source": [
    "a=int(input(\"enter first digit:\"))\n",
    "b=int(input(\"enter second digit:\"))\n",
    "sum=a+b\n",
    "print(\"sum=\",sum)"
   ]
  },
  {
   "cell_type": "code",
   "execution_count": 2,
   "id": "666b81f4-f0e5-4b64-9654-6f135e0b32b0",
   "metadata": {},
   "outputs": [
    {
     "name": "stdin",
     "output_type": "stream",
     "text": [
      "enter first digit: 56\n",
      "enter second digit: 65\n"
     ]
    },
    {
     "name": "stdout",
     "output_type": "stream",
     "text": [
      "addition: 121\n",
      "subtracton: -9\n",
      "multiplication: 3640\n",
      "division: 0.8615384615384616\n"
     ]
    }
   ],
   "source": [
    "a=int(input(\"enter first digit:\"))\n",
    "b=int(input(\"enter second digit:\"))\n",
    "print(\"addition:\",a+b)\n",
    "print(\"subtracton:\",a-b)\n",
    "print(\"multiplication:\",a*b)\n",
    "print(\"division:\",a/b)"
   ]
  },
  {
   "cell_type": "code",
   "execution_count": 3,
   "id": "e202801c-3ae0-422d-a4cc-4d71e43ec675",
   "metadata": {},
   "outputs": [
    {
     "name": "stdin",
     "output_type": "stream",
     "text": [
      "enter first digit (a): 45\n",
      "enter second digit (b): 76\n"
     ]
    },
    {
     "name": "stdout",
     "output_type": "stream",
     "text": [
      "after swapping: a= 76 b= 45\n"
     ]
    }
   ],
   "source": [
    "#swap\n",
    "a=int(input(\"enter first digit (a):\"))\n",
    "b=int(input(\"enter second digit (b):\"))\n",
    "a,b=b,a\n",
    "print(\"after swapping: a=\",a, \"b=\", b)"
   ]
  },
  {
   "cell_type": "code",
   "execution_count": 4,
   "id": "51859fa6-6b9c-404c-aa42-349f41ab5b0b",
   "metadata": {},
   "outputs": [
    {
     "name": "stdin",
     "output_type": "stream",
     "text": [
      "enter length: 56\n",
      "enter breadth: 34\n"
     ]
    },
    {
     "name": "stdout",
     "output_type": "stream",
     "text": [
      "area of rectangle: 1904.0\n"
     ]
    }
   ],
   "source": [
    "#rectangle\n",
    "length=float(input(\"enter length:\"))\n",
    "breadth=float(input(\"enter breadth:\"))\n",
    "area = length*breadth\n",
    "print(\"area of rectangle:\",area)"
   ]
  },
  {
   "cell_type": "code",
   "execution_count": 11,
   "id": "904e6da5-5d3c-4efc-b0f6-c955c132dfa4",
   "metadata": {},
   "outputs": [
    {
     "name": "stdin",
     "output_type": "stream",
     "text": [
      "enter side: 20\n"
     ]
    },
    {
     "name": "stdout",
     "output_type": "stream",
     "text": [
      "area of square: 400.0\n"
     ]
    }
   ],
   "source": [
    "# square\n",
    "side=float(input(\"enter side:\"))\n",
    "area = side*side\n",
    "print(\"area of square:\",area)"
   ]
  },
  {
   "cell_type": "code",
   "execution_count": 5,
   "id": "a5c37bb0-57fd-4dcc-8d74-e44d09edb236",
   "metadata": {},
   "outputs": [
    {
     "name": "stdout",
     "output_type": "stream",
     "text": [
      " =  13\n"
     ]
    }
   ],
   "source": [
    "#sum of digits in number\n",
    "n = 1552\n",
    "sum = 0\n",
    "while n >0:\n",
    "  a = n % 10\n",
    "  n = n // 10\n",
    "  sum = sum + a\n",
    "print(' = ',sum)"
   ]
  },
  {
   "cell_type": "code",
   "execution_count": 11,
   "id": "7bfe516d-bee2-456e-917f-385e21399fca",
   "metadata": {},
   "outputs": [
    {
     "name": "stdin",
     "output_type": "stream",
     "text": [
      "Enter the First Integer: 6\n",
      "Enter the Second Integer: 8\n"
     ]
    },
    {
     "name": "stdout",
     "output_type": "stream",
     "text": [
      "b  is greater.\n"
     ]
    }
   ],
   "source": [
    "# greater of 2 numbers\n",
    "a = int(input(\"Enter the First Integer:\"))\n",
    "b = int(input(\"Enter the Second Integer:\"))\n",
    "if a>b:\n",
    "           print(\"a is greater.\")   \n",
    "else:\n",
    "           print(\"b  is greater.\")\n"
   ]
  },
  {
   "cell_type": "code",
   "execution_count": 13,
   "id": "3b3a683a-ca12-4aa2-b42b-5a19e68e96db",
   "metadata": {},
   "outputs": [
    {
     "name": "stdout",
     "output_type": "stream",
     "text": [
      "c is greater.\n"
     ]
    }
   ],
   "source": [
    "#greater of 3 numbers\n",
    "a = 6\n",
    "b = 7 \n",
    "c = 9\n",
    "if a>b & a>c:\n",
    "    print(\"a is greater.\")\n",
    "elif b>c:\n",
    "    print(\"b is greater.\")\n",
    "else:\n",
    "    print(\"c is greater.\")\n",
    "          "
   ]
  },
  {
   "cell_type": "code",
   "execution_count": 16,
   "id": "a4873a48-3cb7-4691-94fc-d081c6e8b518",
   "metadata": {},
   "outputs": [
    {
     "name": "stdin",
     "output_type": "stream",
     "text": [
      "write angle of traingle:: 60\n",
      "write angle of traingle: 70\n",
      "write angle of traingle: 50\n"
     ]
    },
    {
     "name": "stdout",
     "output_type": "stream",
     "text": [
      "traingle can be formed\n"
     ]
    }
   ],
   "source": [
    "#find traingle is valid or not\n",
    "\n",
    "a = int(input(\"write angle of traingle::\"))\n",
    "b = int(input(\"write angle of traingle:\"))\n",
    "c = int(input(\"write angle of traingle:\"))\n",
    "if a+b+c == 180 :\n",
    "  print(\"traingle can be formed\")\n",
    "else:\n",
    "  print(\"traingle can not be formed\")"
   ]
  },
  {
   "cell_type": "code",
   "execution_count": 18,
   "id": "8aa1b734-22a6-4f6a-b862-469fafc405e9",
   "metadata": {},
   "outputs": [
    {
     "name": "stdin",
     "output_type": "stream",
     "text": [
      "Enter a number:  1\n"
     ]
    },
    {
     "name": "stdout",
     "output_type": "stream",
     "text": [
      "1 is an Armstrong number.\n"
     ]
    }
   ],
   "source": [
    "#find given number is armstrong or not\n",
    "\n",
    "num = int(input(\"Enter a number: \"))\n",
    "power = len(str(num))  \n",
    "\n",
    "sum_of_powers = 0\n",
    "temp = num\n",
    "\n",
    "while temp > 0:\n",
    "    digit = temp % 10\n",
    "    sum_of_powers += digit ** power\n",
    "    temp = temp // 10\n",
    "\n",
    "if num == sum_of_powers:\n",
    "    print(num, \"is an Armstrong number.\")\n",
    "else:\n",
    "    print(num, \"is not an Armstrong number.\")"
   ]
  },
  {
   "cell_type": "code",
   "execution_count": 19,
   "id": "151be9cd-c618-4bbc-9cd6-345d9733778a",
   "metadata": {},
   "outputs": [
    {
     "name": "stdin",
     "output_type": "stream",
     "text": [
      "Enter cost price:  455\n",
      "Enter selling price:  500\n"
     ]
    },
    {
     "name": "stdout",
     "output_type": "stream",
     "text": [
      "Profit: 45\n",
      "Profit Percentage: 9.89 %\n"
     ]
    }
   ],
   "source": [
    "#find losss or profit\n",
    "\n",
    "cost = int(input(\"Enter cost price: \"))\n",
    "sell = int(input(\"Enter selling price: \"))\n",
    "\n",
    "if cost > sell:\n",
    "    loss = cost - sell\n",
    "    lossP = (loss / cost) * 100\n",
    "    print(\"Loss:\", loss)\n",
    "    print(\"Loss Percentage:\", round(lossP, 2), \"%\")\n",
    "elif sell > cost:\n",
    "    profit = sell - cost\n",
    "    profitP = (profit / cost) * 100\n",
    "    print(\"Profit:\", profit)\n",
    "    print(\"Profit Percentage:\", round(profitP, 2), \"%\")\n",
    "else:\n",
    "    print(\"No profit, no loss.\")"
   ]
  },
  {
   "cell_type": "code",
   "execution_count": 34,
   "id": "be1e97df-ebf1-4aed-8f6a-27d1338bf9d6",
   "metadata": {},
   "outputs": [
    {
     "name": "stdout",
     "output_type": "stream",
     "text": [
      " *\n",
      " * *\n",
      " * * *\n",
      " * * * *\n",
      " * * * * *\n",
      " * * * * * *\n",
      " * * * * * * *\n",
      " * * * * * * * *\n",
      " * * * * * * * * *\n",
      " * * * * * * * * * *\n"
     ]
    }
   ],
   "source": [
    "rows = 10\n",
    "for i in range (1, rows+1):\n",
    "    print(' *'* i)"
   ]
  },
  {
   "cell_type": "code",
   "execution_count": 16,
   "id": "607a2ab7-4894-4fc5-b95f-336616ea6eb6",
   "metadata": {},
   "outputs": [
    {
     "name": "stdout",
     "output_type": "stream",
     "text": [
      "         *\n",
      "        **\n",
      "       ***\n",
      "      ****\n",
      "     *****\n",
      "    ******\n",
      "   *******\n",
      "  ********\n",
      " *********\n",
      "**********\n"
     ]
    }
   ],
   "source": [
    "rows = 10\n",
    "for i in range (1 ,rows+1):\n",
    "    print(('*' * i).rjust(rows))"
   ]
  },
  {
   "cell_type": "code",
   "execution_count": 7,
   "id": "6b375e97-3fd6-4488-87a6-b68241680cc9",
   "metadata": {},
   "outputs": [
    {
     "name": "stdout",
     "output_type": "stream",
     "text": [
      "5\n",
      "4\n",
      "3\n",
      "2\n",
      "1\n"
     ]
    }
   ],
   "source": [
    "i = 5\n",
    "while i>= 1:\n",
    "    print(i)\n",
    "    i -= 1"
   ]
  },
  {
   "cell_type": "code",
   "execution_count": null,
   "id": "286942d1-b0f9-4ccb-b505-e7793fd4d21a",
   "metadata": {},
   "outputs": [],
   "source": []
  }
 ],
 "metadata": {
  "kernelspec": {
   "display_name": "Python 3 (ipykernel)",
   "language": "python",
   "name": "python3"
  },
  "language_info": {
   "codemirror_mode": {
    "name": "ipython",
    "version": 3
   },
   "file_extension": ".py",
   "mimetype": "text/x-python",
   "name": "python",
   "nbconvert_exporter": "python",
   "pygments_lexer": "ipython3",
   "version": "3.13.5"
  }
 },
 "nbformat": 4,
 "nbformat_minor": 5
}
