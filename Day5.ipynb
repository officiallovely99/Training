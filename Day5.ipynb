{
 "cells": [
  {
   "cell_type": "code",
   "execution_count": 1,
   "id": "be9efff0-d7d9-46df-aa24-f3cad2aeda80",
   "metadata": {},
   "outputs": [
    {
     "name": "stdin",
     "output_type": "stream",
     "text": [
      "Your name: Manorma\n",
      "Your age: 20\n"
     ]
    },
    {
     "name": "stdout",
     "output_type": "stream",
     "text": [
      "Hello! I am  Manorma  I am 20 years old\n"
     ]
    }
   ],
   "source": [
    "name = input(\"Your name:\")\n",
    "age = input(\"Your age:\")\n",
    "print(\"Hello! I am \",name + \"  I am\", age + \" years old\")"
   ]
  },
  {
   "cell_type": "code",
   "execution_count": 2,
   "id": "c6e00a2e-34d1-413f-a2e7-a0313091f37a",
   "metadata": {},
   "outputs": [
    {
     "name": "stdin",
     "output_type": "stream",
     "text": [
      "Enter the first number: 23\n",
      "Enter the second number: 45\n"
     ]
    },
    {
     "name": "stdout",
     "output_type": "stream",
     "text": [
      "The addition is: 68\n"
     ]
    }
   ],
   "source": [
    "#addition of 2 numbers\n",
    "a = int(input(\"Enter the first number:\"))\n",
    "b = int(input(\"Enter the second number:\"))\n",
    "sum = a+b\n",
    "print(\"The addition is:\",sum)"
   ]
  },
  {
   "cell_type": "code",
   "execution_count": 3,
   "id": "d36f59f3-2535-4e0a-9f39-ff246abe2923",
   "metadata": {},
   "outputs": [
    {
     "name": "stdin",
     "output_type": "stream",
     "text": [
      "Enter the first number: 23\n",
      "Enter the second number: 45\n"
     ]
    },
    {
     "name": "stdout",
     "output_type": "stream",
     "text": [
      "The addition is: 68\n",
      "The subtraction is: -22\n",
      "The multiplication is: 1035\n",
      "The division is: 0.5111111111111111\n"
     ]
    }
   ],
   "source": [
    "#add,sub,mul,division of two numbers\n",
    "a = int(input(\"Enter the first number:\"))\n",
    "b = int(input(\"Enter the second number:\"))\n",
    "sum = a+b\n",
    "sub = a-b\n",
    "mul = a*b\n",
    "division = a/b\n",
    "print(\"The addition is:\",sum)\n",
    "print(\"The subtraction is:\",sub)\n",
    "print(\"The multiplication is:\",mul)\n",
    "print(\"The division is:\",division)"
   ]
  },
  {
   "cell_type": "code",
   "execution_count": 4,
   "id": "1735603c-7b43-4f0e-9322-c848ebacddf6",
   "metadata": {},
   "outputs": [
    {
     "name": "stdin",
     "output_type": "stream",
     "text": [
      "Enter the x: 23\n",
      "Enter the y: 12\n"
     ]
    },
    {
     "name": "stdout",
     "output_type": "stream",
     "text": [
      "After swapping: x= 12 y= 23\n"
     ]
    }
   ],
   "source": [
    "x = int(input(\"Enter the x:\"))\n",
    "y = int(input(\"Enter the y:\"))\n",
    "x,y = y,x\n",
    "print(\"After swapping: x=\", x, \"y=\" , y)"
   ]
  },
  {
   "cell_type": "code",
   "execution_count": 5,
   "id": "bcff29c0-c3c7-4e2a-989c-090f7dab5f38",
   "metadata": {},
   "outputs": [
    {
     "name": "stdin",
     "output_type": "stream",
     "text": [
      "enter first digit (a): 23\n",
      "enter second digit (b): 56\n"
     ]
    },
    {
     "name": "stdout",
     "output_type": "stream",
     "text": [
      "after swapping: a= 56 b= 23\n"
     ]
    }
   ],
   "source": [
    "#swap\n",
    "a=int(input(\"enter first digit (a):\"))\n",
    "b=int(input(\"enter second digit (b):\"))\n",
    "a,b=b,a\n",
    "print(\"after swapping: a=\",a, \"b=\", b)"
   ]
  },
  {
   "cell_type": "code",
   "execution_count": 6,
   "id": "1100a064-6f21-488d-afc4-e7c59e0968a2",
   "metadata": {},
   "outputs": [
    {
     "name": "stdin",
     "output_type": "stream",
     "text": [
      "enter length: 34\n",
      "enter breadth: 23\n"
     ]
    },
    {
     "name": "stdout",
     "output_type": "stream",
     "text": [
      "area of rectangle: 782.0\n"
     ]
    }
   ],
   "source": [
    "#rectangle\n",
    "length=float(input(\"enter length:\"))\n",
    "breadth=float(input(\"enter breadth:\"))\n",
    "area = length*breadth\n",
    "print(\"area of rectangle:\",area)"
   ]
  },
  {
   "cell_type": "code",
   "execution_count": 7,
   "id": "ead8aa44-c45a-421d-bfed-6bd55923eb41",
   "metadata": {},
   "outputs": [
    {
     "name": "stdout",
     "output_type": "stream",
     "text": [
      " =  13\n"
     ]
    }
   ],
   "source": [
    "#sum of digits in number\n",
    "n = 1552\n",
    "sum = 0\n",
    "while n >0:\n",
    "  a = n % 10\n",
    "  n = n // 10\n",
    "  sum = sum + a\n",
    "print(' = ',sum)"
   ]
  },
  {
   "cell_type": "code",
   "execution_count": 8,
   "id": "66c0d825-c7f0-49bf-b0d9-2b521757d7d6",
   "metadata": {},
   "outputs": [
    {
     "name": "stdin",
     "output_type": "stream",
     "text": [
      "Enter the First Integer: 3\n",
      "Enter the Second Integer: 4\n"
     ]
    },
    {
     "name": "stdout",
     "output_type": "stream",
     "text": [
      "b  is greater.\n"
     ]
    }
   ],
   "source": [
    "# greater of 2 numbers\n",
    "a = int(input(\"Enter the First Integer:\"))\n",
    "b = int(input(\"Enter the Second Integer:\"))\n",
    "if a>b:\n",
    "           print(\"a is greater.\")   \n",
    "else:\n",
    "           print(\"b  is greater.\")\n"
   ]
  },
  {
   "cell_type": "code",
   "execution_count": 10,
   "id": "0210735a-88be-47b4-89d8-a818d02e8894",
   "metadata": {},
   "outputs": [
    {
     "name": "stdin",
     "output_type": "stream",
     "text": [
      "Enter a number:  121\n"
     ]
    },
    {
     "name": "stdout",
     "output_type": "stream",
     "text": [
      "121 is not an Armstrong number.\n"
     ]
    }
   ],
   "source": [
    "#find given number is armstrong or not\n",
    "\n",
    "num = int(input(\"Enter a number: \"))\n",
    "power = len(str(num))  \n",
    "\n",
    "sum_of_powers = 0\n",
    "temp = num\n",
    "\n",
    "while temp > 0:\n",
    "    digit = temp % 10\n",
    "    sum_of_powers += digit ** power\n",
    "    temp = temp // 10\n",
    "\n",
    "if num == sum_of_powers:\n",
    "    print(num, \"is an Armstrong number.\")\n",
    "else:\n",
    "    print(num, \"is not an Armstrong number.\")"
   ]
  },
  {
   "cell_type": "code",
   "execution_count": 11,
   "id": "5d972020-5d3d-4ae2-a5a0-44681a0d1301",
   "metadata": {},
   "outputs": [
    {
     "name": "stdout",
     "output_type": "stream",
     "text": [
      " *\n",
      " * *\n",
      " * * *\n",
      " * * * *\n",
      " * * * * *\n",
      " * * * * * *\n",
      " * * * * * * *\n",
      " * * * * * * * *\n",
      " * * * * * * * * *\n",
      " * * * * * * * * * *\n"
     ]
    }
   ],
   "source": [
    "rows = 10\n",
    "for i in range (1, rows+1):\n",
    "    print(' *'* i)"
   ]
  },
  {
   "cell_type": "code",
   "execution_count": 12,
   "id": "ea873d7f-791b-4a69-8c7d-027b94cd47b6",
   "metadata": {},
   "outputs": [
    {
     "name": "stdout",
     "output_type": "stream",
     "text": [
      "         *\n",
      "        **\n",
      "       ***\n",
      "      ****\n",
      "     *****\n",
      "    ******\n",
      "   *******\n",
      "  ********\n",
      " *********\n",
      "**********\n"
     ]
    }
   ],
   "source": [
    "rows = 10\n",
    "for i in range (1 ,rows+1):\n",
    "    print(('*' * i).rjust(rows))"
   ]
  },
  {
   "cell_type": "code",
   "execution_count": 13,
   "id": "b7d5f8c0-d9bb-4692-b013-e7cedf1a1103",
   "metadata": {},
   "outputs": [
    {
     "name": "stdout",
     "output_type": "stream",
     "text": [
      "5\n",
      "4\n",
      "3\n",
      "2\n",
      "1\n"
     ]
    }
   ],
   "source": [
    "i = 5\n",
    "while i>= 1:\n",
    "    print(i)\n",
    "    i -= 1"
   ]
  },
  {
   "cell_type": "code",
   "execution_count": 14,
   "id": "77c237a9-b293-4a31-99bf-fdaec3b04701",
   "metadata": {},
   "outputs": [
    {
     "name": "stdin",
     "output_type": "stream",
     "text": [
      "enter number of rows 3\n"
     ]
    },
    {
     "name": "stdout",
     "output_type": "stream",
     "text": [
      "1 \n",
      "\n",
      "1 2 \n",
      "\n",
      "1 2 3 \n",
      "\n"
     ]
    }
   ],
   "source": [
    "#print a pattern\n",
    "\n",
    "num = int(input(\"enter number of rows\"))\n",
    "for i in range( 1 , num+1):\n",
    "  for j in range (0 , i):\n",
    "    print(j+1 , end=\" \")\n",
    "  print(\"\\n\")"
   ]
  }
 ],
 "metadata": {
  "kernelspec": {
   "display_name": "Python [conda env:base] *",
   "language": "python",
   "name": "conda-base-py"
  },
  "language_info": {
   "codemirror_mode": {
    "name": "ipython",
    "version": 3
   },
   "file_extension": ".py",
   "mimetype": "text/x-python",
   "name": "python",
   "nbconvert_exporter": "python",
   "pygments_lexer": "ipython3",
   "version": "3.12.7"
  }
 },
 "nbformat": 4,
 "nbformat_minor": 5
}
