{
 "cells": [
  {
   "cell_type": "code",
   "execution_count": 2,
   "id": "e5cdcd1e-3f2e-4fe4-89da-0b3d4efb1824",
   "metadata": {},
   "outputs": [
    {
     "name": "stdout",
     "output_type": "stream",
     "text": [
      "Hello, Manorma!\n"
     ]
    }
   ],
   "source": [
    "def greet(name):\n",
    "    return f\"Hello, {name}!\"\n",
    "\n",
    "print(greet(\"Manorma\"))\n"
   ]
  },
  {
   "cell_type": "code",
   "execution_count": 3,
   "id": "e8f76bcb-286a-461f-bef1-6e59ee866be9",
   "metadata": {},
   "outputs": [
    {
     "name": "stdin",
     "output_type": "stream",
     "text": [
      "enter number of rows 4\n",
      "enter number of column 6\n"
     ]
    },
    {
     "name": "stdout",
     "output_type": "stream",
     "text": [
      "# * # * # * \n",
      "\n",
      "* # * # * # \n",
      "\n",
      "# * # * # * \n",
      "\n",
      "* # * # * # \n",
      "\n"
     ]
    }
   ],
   "source": [
    "#print a pattern\n",
    "\n",
    "row = int(input(\"enter number of rows\"))\n",
    "cols = int(input(\"enter number of column\"))\n",
    "for i in range(0 ,row):\n",
    " for j in range(0,cols):\n",
    "  if i%2==0:\n",
    "   if j%2==0:\n",
    "    print(\"#\",end=\" \")\n",
    "   else:\n",
    "    print(\"*\",end=\" \")\n",
    "  else:\n",
    "   if j%2!=0:\n",
    "    print(\"#\",end=\" \")\n",
    "   else:\n",
    "    print(\"*\",end=\" \") \n",
    " print(\"\\n\")  "
   ]
  },
  {
   "cell_type": "code",
   "execution_count": 4,
   "id": "d5bb752a-e372-46cf-8868-5ec0994e304b",
   "metadata": {},
   "outputs": [],
   "source": [
    "import numpy"
   ]
  },
  {
   "cell_type": "code",
   "execution_count": 5,
   "id": "cc4e5a6a-1dab-4471-a76d-0c125fd97ee0",
   "metadata": {},
   "outputs": [
    {
     "name": "stdout",
     "output_type": "stream",
     "text": [
      "[1 2 3 4 5]\n"
     ]
    }
   ],
   "source": [
    "import numpy as np\n",
    "\n",
    "arr = np.array([1, 2, 3, 4, 5])\n",
    "print(arr)\n"
   ]
  },
  {
   "cell_type": "code",
   "execution_count": 6,
   "id": "e0643592-353c-4a37-8cd6-6807c77fd85e",
   "metadata": {},
   "outputs": [
    {
     "name": "stdout",
     "output_type": "stream",
     "text": [
      "[ 4  8 11]\n",
      "[-2 -2 -1]\n",
      "[ 3 15 30]\n"
     ]
    }
   ],
   "source": [
    "import numpy as np\n",
    "a=np.array([1,3,5])\n",
    "b=np.array([3,5,6])\n",
    "print(a+b)\n",
    "print(a-b)\n",
    "print(a*b)\n"
   ]
  },
  {
   "cell_type": "code",
   "execution_count": 7,
   "id": "e2cf9a5d-08bc-4157-82a5-4b4fa971e9d1",
   "metadata": {},
   "outputs": [
    {
     "name": "stdout",
     "output_type": "stream",
     "text": [
      "shape is: (3, 3)\n",
      "size is: 9\n",
      "data type: int32\n"
     ]
    }
   ],
   "source": [
    "import numpy as np\n",
    "arr=np.array([(2,3,4),(3,5,6),(4,5,6)])\n",
    "print(\"shape is:\",arr.shape)\n",
    "print(\"size is:\",arr.size)\n",
    "print(\"data type:\",arr.dtype)"
   ]
  },
  {
   "cell_type": "code",
   "execution_count": 8,
   "id": "17150718-b847-4835-ac36-ddbcef427828",
   "metadata": {},
   "outputs": [
    {
     "name": "stdout",
     "output_type": "stream",
     "text": [
      "[4 5 6 7 8 9]\n"
     ]
    }
   ],
   "source": [
    "a = np.array([4,5,6,7,8,9])\n",
    "print(a[0:6])  \n",
    "\n"
   ]
  },
  {
   "cell_type": "code",
   "execution_count": 9,
   "id": "9738f0e3-ce48-4014-aaf9-2318ed47e7c5",
   "metadata": {},
   "outputs": [
    {
     "name": "stdout",
     "output_type": "stream",
     "text": [
      "[[0. 0. 0.]\n",
      " [0. 0. 0.]]\n",
      "[[1. 1. 1.]\n",
      " [1. 1. 1.]\n",
      " [1. 1. 1.]]\n",
      "[[1. 0. 0.]\n",
      " [0. 1. 0.]\n",
      " [0. 0. 1.]]\n",
      "[2 5 8]\n"
     ]
    }
   ],
   "source": [
    "import numpy as np\n",
    "\n",
    "print(np.zeros((2,3)))\n",
    "print(np.ones((3,3)))\n",
    "print(np.eye((3)))\n",
    "print(np.arange(2, 11, 3))\n"
   ]
  },
  {
   "cell_type": "code",
   "execution_count": 10,
   "id": "59e600fe-32bf-41f5-bbf0-ab15f4feaa35",
   "metadata": {},
   "outputs": [
    {
     "name": "stdout",
     "output_type": "stream",
     "text": [
      " 1D array: [10 20 30 40 50]\n"
     ]
    }
   ],
   "source": [
    "import numpy as np\n",
    "arr=np.array([10,20,30,40,50])\n",
    "print(\" 1D array:\",arr)"
   ]
  },
  {
   "cell_type": "code",
   "execution_count": 11,
   "id": "1e4df127-ee16-4c32-b31b-c8c630de6e10",
   "metadata": {},
   "outputs": [
    {
     "name": "stdout",
     "output_type": "stream",
     "text": [
      "added array is: [6 4 6]\n"
     ]
    }
   ],
   "source": [
    "a = np.array([1, 2, 3])\n",
    "b = np.array([5, 2, 3])\n",
    "c=a+b\n",
    "print(\"added array is:\",c)\n",
    "              "
   ]
  },
  {
   "cell_type": "code",
   "execution_count": 12,
   "id": "cb45ce8a-07bf-401d-aed4-6c10e359cdca",
   "metadata": {},
   "outputs": [
    {
     "name": "stdout",
     "output_type": "stream",
     "text": [
      "Range array: [1 3 5 7 9]\n"
     ]
    }
   ],
   "source": [
    "print(\"Range array:\", np.arange(1, 10, 2))  # [1 3 5 7 9]\n"
   ]
  },
  {
   "cell_type": "code",
   "execution_count": 13,
   "id": "f6f56833-7e1c-4dd6-99fd-46b3c2e19705",
   "metadata": {},
   "outputs": [
    {
     "data": {
      "text/plain": [
       "array([[8, 8, 8, 8],\n",
       "       [8, 8, 8, 8]])"
      ]
     },
     "execution_count": 13,
     "metadata": {},
     "output_type": "execute_result"
    }
   ],
   "source": [
    "import numpy as np\n",
    "arr = np.array([1,23,35,])\n",
    "arr.ndim\n",
    "arr.shape\n",
    "arr.size\n",
    "arr1 = np.full((2,4) , 8)\n",
    "arr1\n"
   ]
  },
  {
   "cell_type": "code",
   "execution_count": 14,
   "id": "ed60a9e0-897a-4283-a8a1-70dfb205b033",
   "metadata": {},
   "outputs": [
    {
     "data": {
      "text/plain": [
       "array([32, 32])"
      ]
     },
     "execution_count": 14,
     "metadata": {},
     "output_type": "execute_result"
    }
   ],
   "source": [
    "np.sum(arr1 , axis = 1)"
   ]
  },
  {
   "cell_type": "code",
   "execution_count": 15,
   "id": "9d1baaa0-fc85-47f2-95f7-81fe96490aad",
   "metadata": {},
   "outputs": [
    {
     "data": {
      "text/plain": [
       "array([ 1,  2,  3,  1, 23, 35])"
      ]
     },
     "execution_count": 15,
     "metadata": {},
     "output_type": "execute_result"
    }
   ],
   "source": [
    "np.concatenate([a,arr])"
   ]
  },
  {
   "cell_type": "code",
   "execution_count": 16,
   "id": "55a26123-9583-4ce8-a51b-8c0d2224821f",
   "metadata": {},
   "outputs": [],
   "source": [
    "import time"
   ]
  },
  {
   "cell_type": "code",
   "execution_count": 17,
   "id": "ccd08d83-1210-4a87-a1f3-ebb7818af966",
   "metadata": {},
   "outputs": [
    {
     "data": {
      "text/plain": [
       "array([8, 8, 8, 8, 8, 8, 8, 8])"
      ]
     },
     "execution_count": 17,
     "metadata": {},
     "output_type": "execute_result"
    }
   ],
   "source": [
    "arr1.ravel()"
   ]
  },
  {
   "cell_type": "code",
   "execution_count": 18,
   "id": "ad4dc3b7-5463-4a4a-ade7-b1402988ffc8",
   "metadata": {},
   "outputs": [
    {
     "data": {
      "text/plain": [
       "array([8, 8, 8, 8, 8, 8, 8, 8])"
      ]
     },
     "execution_count": 18,
     "metadata": {},
     "output_type": "execute_result"
    }
   ],
   "source": [
    "arr1.flatten()"
   ]
  },
  {
   "cell_type": "code",
   "execution_count": null,
   "id": "89be6df0-4e02-4cb1-927d-917a15d1e574",
   "metadata": {},
   "outputs": [],
   "source": []
  }
 ],
 "metadata": {
  "kernelspec": {
   "display_name": "Python [conda env:base] *",
   "language": "python",
   "name": "conda-base-py"
  },
  "language_info": {
   "codemirror_mode": {
    "name": "ipython",
    "version": 3
   },
   "file_extension": ".py",
   "mimetype": "text/x-python",
   "name": "python",
   "nbconvert_exporter": "python",
   "pygments_lexer": "ipython3",
   "version": "3.12.7"
  }
 },
 "nbformat": 4,
 "nbformat_minor": 5
}
