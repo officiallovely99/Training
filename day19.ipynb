{
 "cells": [
  {
   "cell_type": "code",
   "execution_count": 30,
   "id": "8fee3f3d-56f1-4fb5-ae74-d8f9b2c5d2c4",
   "metadata": {},
   "outputs": [
    {
     "name": "stdin",
     "output_type": "stream",
     "text": [
      "Ist number: 1\n",
      "2nd number: 2\n"
     ]
    },
    {
     "name": "stdout",
     "output_type": "stream",
     "text": [
      "The sum of the two numbers is: 3\n"
     ]
    }
   ],
   "source": [
    "num1 = int(input(\"Ist number:\"))\n",
    "num2 = int(input(\"2nd number:\"))\n",
    "sum = num1+num2\n",
    "print(\"The sum of the two numbers is:\",sum)"
   ]
  },
  {
   "cell_type": "code",
   "execution_count": 27,
   "id": "8a75680d-f5f9-45cc-bc01-4a0094c76c2b",
   "metadata": {},
   "outputs": [
    {
     "name": "stdout",
     "output_type": "stream",
     "text": [
      "-5\n",
      "-4\n",
      "-3\n",
      "-2\n",
      "-1\n",
      "0\n"
     ]
    }
   ],
   "source": [
    "i =  -4\n",
    "for i in range(i-1,1):\n",
    "     print(i)"
   ]
  },
  {
   "cell_type": "code",
   "execution_count": 5,
   "id": "d6e8ebf7-5747-4a4f-a76c-7b66e4ed5059",
   "metadata": {},
   "outputs": [
    {
     "name": "stdin",
     "output_type": "stream",
     "text": [
      "Enter the integer: -3\n"
     ]
    },
    {
     "name": "stdout",
     "output_type": "stream",
     "text": [
      "negative.\n"
     ]
    }
   ],
   "source": [
    "num = int(input(\"Enter the integer:\"))\n",
    "if num >0:\n",
    "          print(\"positive.\")\n",
    "elif num <0:\n",
    "          print(\"negative.\")\n",
    "else:\n",
    "          print(\"it is zero.\")\n"
   ]
  },
  {
   "cell_type": "code",
   "execution_count": 10,
   "id": "0a18f3ee-9a5b-44a6-9424-ab955adbae32",
   "metadata": {},
   "outputs": [
    {
     "name": "stderr",
     "output_type": "stream",
     "text": [
      "C:\\ProgramData\\anaconda3\\Lib\\site-packages\\sklearn\\cluster\\_kmeans.py:1419: UserWarning: KMeans is known to have a memory leak on Windows with MKL, when there are less chunks than available threads. You can avoid it by setting the environment variable OMP_NUM_THREADS=1.\n",
      "  warnings.warn(\n"
     ]
    },
    {
     "name": "stdout",
     "output_type": "stream",
     "text": [
      "Cluster assignments:\n",
      "[0 1 0 1 1 0 0]\n",
      "Cluster centroids:\n",
      "[[ 6.125       4.375     ]\n",
      " [16.         16.66666667]]\n",
      "Sum of sauares\n",
      "11.541666666666668\n"
     ]
    }
   ],
   "source": [
    "from sklearn.cluster import KMeans\n",
    "import numpy as np\n",
    "data = np.array(\n",
    "    [[5,6],\n",
    "     [15,16],\n",
    "     \n",
    "     [6,4],\n",
    "     [16,16],\n",
    "     [17,18],\n",
    "     [7,3],\n",
    "     [6.5,4.5],\n",
    "    ]\n",
    ")\n",
    "result = KMeans(n_clusters = 2)\n",
    "result.fit(data)\n",
    "\n",
    "print(\"Cluster assignments:\")\n",
    "print(result.labels_)\n",
    "print(\"Cluster centroids:\")\n",
    "print(result.cluster_centers_)\n",
    "print(\"Sum of sauares\")\n",
    "print(result.inertia_)"
   ]
  },
  {
   "cell_type": "code",
   "execution_count": null,
   "id": "d082bf9e-a2b8-4a4f-8cd4-68a63611cf5a",
   "metadata": {},
   "outputs": [],
   "source": [
    "import pandas as pd\n",
    "import matplotlib.pyplot as plt\n",
    "from sklearn.cluster import KMeans\n",
    "from sklearn.preprocessing import StandarsScaler\n",
    "df = pd.read_csv(\"Mall_customer"
   ]
  },
  {
   "cell_type": "code",
   "execution_count": null,
   "id": "6251fb6b-211a-450d-ad72-ae8a06a3f7e1",
   "metadata": {},
   "outputs": [],
   "source": [
    "df.head()\n"
   ]
  },
  {
   "cell_type": "code",
   "execution_count": null,
   "id": "c9ff94fa-73bb-42e7-8f1f-c9f7512ea41e",
   "metadata": {},
   "outputs": [],
   "source": [
    "df.rename(columns ={' Annual Income (k$)' : 'Annual_Income', 'Spending_Score"
   ]
  }
 ],
 "metadata": {
  "kernelspec": {
   "display_name": "Python 3 (ipykernel)",
   "language": "python",
   "name": "python3"
  },
  "language_info": {
   "codemirror_mode": {
    "name": "ipython",
    "version": 3
   },
   "file_extension": ".py",
   "mimetype": "text/x-python",
   "name": "python",
   "nbconvert_exporter": "python",
   "pygments_lexer": "ipython3",
   "version": "3.13.5"
  }
 },
 "nbformat": 4,
 "nbformat_minor": 5
}
